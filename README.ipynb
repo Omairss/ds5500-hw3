{
 "cells": [
  {
   "cell_type": "code",
   "execution_count": 126,
   "metadata": {},
   "outputs": [],
   "source": [
    "import pandas as pd\n",
    "import matplotlib.pyplot as plt\n",
    "import numpy as np"
   ]
  },
  {
   "cell_type": "code",
   "execution_count": 93,
   "metadata": {},
   "outputs": [
    {
     "name": "stderr",
     "output_type": "stream",
     "text": [
      "/usr/local/lib/python3.5/dist-packages/IPython/core/interactiveshell.py:3058: DtypeWarning: Columns (0,3) have mixed types. Specify dtype option on import or set low_memory=False.\n",
      "  interactivity=interactivity, compiler=compiler, result=result)\n",
      "/usr/local/lib/python3.5/dist-packages/IPython/core/interactiveshell.py:3058: DtypeWarning: Columns (17,45,129,143) have mixed types. Specify dtype option on import or set low_memory=False.\n",
      "  interactivity=interactivity, compiler=compiler, result=result)\n",
      "/usr/local/lib/python3.5/dist-packages/IPython/core/interactiveshell.py:3058: DtypeWarning: Columns (17) have mixed types. Specify dtype option on import or set low_memory=False.\n",
      "  interactivity=interactivity, compiler=compiler, result=result)\n"
     ]
    }
   ],
   "source": [
    "fiscal_df = pd.read_csv('data/Sdf16_1a.txt', sep = '\\t')\n",
    "rla_df = pd.read_csv('data/rla-achievement-lea-sy2015-16.csv', sep = ',')\n",
    "math_df = pd.read_csv('data/math-achievement-lea-sy2015-16.csv', sep = ',')"
   ]
  },
  {
   "cell_type": "markdown",
   "metadata": {},
   "source": [
    "### Problem 1"
   ]
  },
  {
   "cell_type": "code",
   "execution_count": 17,
   "metadata": {},
   "outputs": [
    {
     "data": {
      "text/html": [
       "<div>\n",
       "<style scoped>\n",
       "    .dataframe tbody tr th:only-of-type {\n",
       "        vertical-align: middle;\n",
       "    }\n",
       "\n",
       "    .dataframe tbody tr th {\n",
       "        vertical-align: top;\n",
       "    }\n",
       "\n",
       "    .dataframe thead th {\n",
       "        text-align: right;\n",
       "    }\n",
       "</style>\n",
       "<table border=\"1\" class=\"dataframe\">\n",
       "  <thead>\n",
       "    <tr style=\"text-align: right;\">\n",
       "      <th></th>\n",
       "      <th>LEAID</th>\n",
       "      <th>CENSUSID</th>\n",
       "      <th>FIPST</th>\n",
       "      <th>CONUM</th>\n",
       "      <th>CSA</th>\n",
       "      <th>CBSA</th>\n",
       "      <th>NAME</th>\n",
       "      <th>STNAME</th>\n",
       "      <th>STABBR</th>\n",
       "      <th>SCHLEV</th>\n",
       "      <th>...</th>\n",
       "      <th>FL_61V</th>\n",
       "      <th>FL_66V</th>\n",
       "      <th>FL_W01</th>\n",
       "      <th>FL_W31</th>\n",
       "      <th>FL_W61</th>\n",
       "      <th>FL_V95</th>\n",
       "      <th>FL_V02</th>\n",
       "      <th>FL_K14</th>\n",
       "      <th>FL_CE1</th>\n",
       "      <th>FL_CE2</th>\n",
       "    </tr>\n",
       "  </thead>\n",
       "  <tbody>\n",
       "    <tr>\n",
       "      <th>0</th>\n",
       "      <td>100002</td>\n",
       "      <td>N</td>\n",
       "      <td>1</td>\n",
       "      <td>01073</td>\n",
       "      <td>142</td>\n",
       "      <td>13820</td>\n",
       "      <td>Alabama Youth Services</td>\n",
       "      <td>Alabama</td>\n",
       "      <td>AL</td>\n",
       "      <td>N</td>\n",
       "      <td>...</td>\n",
       "      <td>M</td>\n",
       "      <td>M</td>\n",
       "      <td>M</td>\n",
       "      <td>M</td>\n",
       "      <td>M</td>\n",
       "      <td>M</td>\n",
       "      <td>M</td>\n",
       "      <td>M</td>\n",
       "      <td>M</td>\n",
       "      <td>M</td>\n",
       "    </tr>\n",
       "    <tr>\n",
       "      <th>1</th>\n",
       "      <td>100005</td>\n",
       "      <td>01504840100000</td>\n",
       "      <td>1</td>\n",
       "      <td>01095</td>\n",
       "      <td>290</td>\n",
       "      <td>10700</td>\n",
       "      <td>Albertville City</td>\n",
       "      <td>Alabama</td>\n",
       "      <td>AL</td>\n",
       "      <td>03</td>\n",
       "      <td>...</td>\n",
       "      <td>M</td>\n",
       "      <td>M</td>\n",
       "      <td>R</td>\n",
       "      <td>R</td>\n",
       "      <td>R</td>\n",
       "      <td>M</td>\n",
       "      <td>M</td>\n",
       "      <td>M</td>\n",
       "      <td>M</td>\n",
       "      <td>M</td>\n",
       "    </tr>\n",
       "    <tr>\n",
       "      <th>2</th>\n",
       "      <td>100006</td>\n",
       "      <td>01504800100000</td>\n",
       "      <td>1</td>\n",
       "      <td>01095</td>\n",
       "      <td>290</td>\n",
       "      <td>10700</td>\n",
       "      <td>Marshall County</td>\n",
       "      <td>Alabama</td>\n",
       "      <td>AL</td>\n",
       "      <td>03</td>\n",
       "      <td>...</td>\n",
       "      <td>M</td>\n",
       "      <td>M</td>\n",
       "      <td>R</td>\n",
       "      <td>R</td>\n",
       "      <td>R</td>\n",
       "      <td>M</td>\n",
       "      <td>M</td>\n",
       "      <td>M</td>\n",
       "      <td>M</td>\n",
       "      <td>M</td>\n",
       "    </tr>\n",
       "    <tr>\n",
       "      <th>3</th>\n",
       "      <td>100007</td>\n",
       "      <td>01503740100000</td>\n",
       "      <td>1</td>\n",
       "      <td>01073</td>\n",
       "      <td>142</td>\n",
       "      <td>13820</td>\n",
       "      <td>Hoover City</td>\n",
       "      <td>Alabama</td>\n",
       "      <td>AL</td>\n",
       "      <td>03</td>\n",
       "      <td>...</td>\n",
       "      <td>M</td>\n",
       "      <td>M</td>\n",
       "      <td>R</td>\n",
       "      <td>R</td>\n",
       "      <td>R</td>\n",
       "      <td>M</td>\n",
       "      <td>M</td>\n",
       "      <td>M</td>\n",
       "      <td>M</td>\n",
       "      <td>M</td>\n",
       "    </tr>\n",
       "    <tr>\n",
       "      <th>4</th>\n",
       "      <td>100008</td>\n",
       "      <td>01504530100000</td>\n",
       "      <td>1</td>\n",
       "      <td>01089</td>\n",
       "      <td>290</td>\n",
       "      <td>26620</td>\n",
       "      <td>Madison City</td>\n",
       "      <td>Alabama</td>\n",
       "      <td>AL</td>\n",
       "      <td>03</td>\n",
       "      <td>...</td>\n",
       "      <td>M</td>\n",
       "      <td>M</td>\n",
       "      <td>R</td>\n",
       "      <td>R</td>\n",
       "      <td>R</td>\n",
       "      <td>M</td>\n",
       "      <td>M</td>\n",
       "      <td>M</td>\n",
       "      <td>M</td>\n",
       "      <td>M</td>\n",
       "    </tr>\n",
       "    <tr>\n",
       "      <th>...</th>\n",
       "      <td>...</td>\n",
       "      <td>...</td>\n",
       "      <td>...</td>\n",
       "      <td>...</td>\n",
       "      <td>...</td>\n",
       "      <td>...</td>\n",
       "      <td>...</td>\n",
       "      <td>...</td>\n",
       "      <td>...</td>\n",
       "      <td>...</td>\n",
       "      <td>...</td>\n",
       "      <td>...</td>\n",
       "      <td>...</td>\n",
       "      <td>...</td>\n",
       "      <td>...</td>\n",
       "      <td>...</td>\n",
       "      <td>...</td>\n",
       "      <td>...</td>\n",
       "      <td>...</td>\n",
       "      <td>...</td>\n",
       "      <td>...</td>\n",
       "    </tr>\n",
       "    <tr>\n",
       "      <th>18703</th>\n",
       "      <td>5680250</td>\n",
       "      <td>51502040100000</td>\n",
       "      <td>56</td>\n",
       "      <td>56039</td>\n",
       "      <td>N</td>\n",
       "      <td>27220</td>\n",
       "      <td>Region V BOCES</td>\n",
       "      <td>Wyoming</td>\n",
       "      <td>WY</td>\n",
       "      <td>07</td>\n",
       "      <td>...</td>\n",
       "      <td>N</td>\n",
       "      <td>N</td>\n",
       "      <td>N</td>\n",
       "      <td>N</td>\n",
       "      <td>N</td>\n",
       "      <td>N</td>\n",
       "      <td>N</td>\n",
       "      <td>N</td>\n",
       "      <td>N</td>\n",
       "      <td>N</td>\n",
       "    </tr>\n",
       "    <tr>\n",
       "      <th>18704</th>\n",
       "      <td>5680251</td>\n",
       "      <td>N</td>\n",
       "      <td>56</td>\n",
       "      <td>56021</td>\n",
       "      <td>N</td>\n",
       "      <td>16940</td>\n",
       "      <td>Wyoming Department of Family Services</td>\n",
       "      <td>Wyoming</td>\n",
       "      <td>WY</td>\n",
       "      <td>N</td>\n",
       "      <td>...</td>\n",
       "      <td>N</td>\n",
       "      <td>N</td>\n",
       "      <td>N</td>\n",
       "      <td>N</td>\n",
       "      <td>N</td>\n",
       "      <td>N</td>\n",
       "      <td>N</td>\n",
       "      <td>N</td>\n",
       "      <td>N</td>\n",
       "      <td>N</td>\n",
       "    </tr>\n",
       "    <tr>\n",
       "      <th>18705</th>\n",
       "      <td>5680252</td>\n",
       "      <td>N</td>\n",
       "      <td>56</td>\n",
       "      <td>56005</td>\n",
       "      <td>N</td>\n",
       "      <td>23940</td>\n",
       "      <td>Youth Emergency Services Inc. - Administration...</td>\n",
       "      <td>Wyoming</td>\n",
       "      <td>WY</td>\n",
       "      <td>N</td>\n",
       "      <td>...</td>\n",
       "      <td>N</td>\n",
       "      <td>N</td>\n",
       "      <td>N</td>\n",
       "      <td>N</td>\n",
       "      <td>N</td>\n",
       "      <td>N</td>\n",
       "      <td>N</td>\n",
       "      <td>N</td>\n",
       "      <td>N</td>\n",
       "      <td>N</td>\n",
       "    </tr>\n",
       "    <tr>\n",
       "      <th>18706</th>\n",
       "      <td>5680253</td>\n",
       "      <td>N</td>\n",
       "      <td>56</td>\n",
       "      <td>56025</td>\n",
       "      <td>N</td>\n",
       "      <td>16220</td>\n",
       "      <td>Wyoming Behavioral Institute - Administration ...</td>\n",
       "      <td>Wyoming</td>\n",
       "      <td>WY</td>\n",
       "      <td>N</td>\n",
       "      <td>...</td>\n",
       "      <td>N</td>\n",
       "      <td>N</td>\n",
       "      <td>N</td>\n",
       "      <td>N</td>\n",
       "      <td>N</td>\n",
       "      <td>N</td>\n",
       "      <td>N</td>\n",
       "      <td>N</td>\n",
       "      <td>N</td>\n",
       "      <td>N</td>\n",
       "    </tr>\n",
       "    <tr>\n",
       "      <th>18707</th>\n",
       "      <td>5680254</td>\n",
       "      <td>N</td>\n",
       "      <td>56</td>\n",
       "      <td>56013</td>\n",
       "      <td>N</td>\n",
       "      <td>40180</td>\n",
       "      <td>Saint Stephen's Indian School Admin Office</td>\n",
       "      <td>Wyoming</td>\n",
       "      <td>WY</td>\n",
       "      <td>03</td>\n",
       "      <td>...</td>\n",
       "      <td>N</td>\n",
       "      <td>N</td>\n",
       "      <td>N</td>\n",
       "      <td>N</td>\n",
       "      <td>N</td>\n",
       "      <td>N</td>\n",
       "      <td>N</td>\n",
       "      <td>N</td>\n",
       "      <td>N</td>\n",
       "      <td>N</td>\n",
       "    </tr>\n",
       "  </tbody>\n",
       "</table>\n",
       "<p>18708 rows × 260 columns</p>\n",
       "</div>"
      ],
      "text/plain": [
       "         LEAID        CENSUSID  FIPST  CONUM  CSA   CBSA  \\\n",
       "0       100002               N      1  01073  142  13820   \n",
       "1       100005  01504840100000      1  01095  290  10700   \n",
       "2       100006  01504800100000      1  01095  290  10700   \n",
       "3       100007  01503740100000      1  01073  142  13820   \n",
       "4       100008  01504530100000      1  01089  290  26620   \n",
       "...        ...             ...    ...    ...  ...    ...   \n",
       "18703  5680250  51502040100000     56  56039    N  27220   \n",
       "18704  5680251               N     56  56021    N  16940   \n",
       "18705  5680252               N     56  56005    N  23940   \n",
       "18706  5680253               N     56  56025    N  16220   \n",
       "18707  5680254               N     56  56013    N  40180   \n",
       "\n",
       "                                                    NAME   STNAME STABBR  \\\n",
       "0                                 Alabama Youth Services  Alabama     AL   \n",
       "1                                       Albertville City  Alabama     AL   \n",
       "2                                        Marshall County  Alabama     AL   \n",
       "3                                            Hoover City  Alabama     AL   \n",
       "4                                           Madison City  Alabama     AL   \n",
       "...                                                  ...      ...    ...   \n",
       "18703                                     Region V BOCES  Wyoming     WY   \n",
       "18704              Wyoming Department of Family Services  Wyoming     WY   \n",
       "18705  Youth Emergency Services Inc. - Administration...  Wyoming     WY   \n",
       "18706  Wyoming Behavioral Institute - Administration ...  Wyoming     WY   \n",
       "18707         Saint Stephen's Indian School Admin Office  Wyoming     WY   \n",
       "\n",
       "      SCHLEV  ... FL_61V  FL_66V  FL_W01  FL_W31 FL_W61 FL_V95  FL_V02  \\\n",
       "0          N  ...      M       M       M       M      M      M       M   \n",
       "1         03  ...      M       M       R       R      R      M       M   \n",
       "2         03  ...      M       M       R       R      R      M       M   \n",
       "3         03  ...      M       M       R       R      R      M       M   \n",
       "4         03  ...      M       M       R       R      R      M       M   \n",
       "...      ...  ...    ...     ...     ...     ...    ...    ...     ...   \n",
       "18703     07  ...      N       N       N       N      N      N       N   \n",
       "18704      N  ...      N       N       N       N      N      N       N   \n",
       "18705      N  ...      N       N       N       N      N      N       N   \n",
       "18706      N  ...      N       N       N       N      N      N       N   \n",
       "18707     03  ...      N       N       N       N      N      N       N   \n",
       "\n",
       "       FL_K14  FL_CE1  FL_CE2  \n",
       "0           M       M       M  \n",
       "1           M       M       M  \n",
       "2           M       M       M  \n",
       "3           M       M       M  \n",
       "4           M       M       M  \n",
       "...       ...     ...     ...  \n",
       "18703       N       N       N  \n",
       "18704       N       N       N  \n",
       "18705       N       N       N  \n",
       "18706       N       N       N  \n",
       "18707       N       N       N  \n",
       "\n",
       "[18708 rows x 260 columns]"
      ]
     },
     "execution_count": 17,
     "metadata": {},
     "output_type": "execute_result"
    }
   ],
   "source": [
    "fiscal_df"
   ]
  },
  {
   "cell_type": "markdown",
   "metadata": {},
   "source": [
    "#### It seems like the federal funding revenue follows a pwer log distribution."
   ]
  },
  {
   "cell_type": "code",
   "execution_count": 28,
   "metadata": {},
   "outputs": [
    {
     "data": {
      "text/plain": [
       "<matplotlib.axes._subplots.AxesSubplot at 0x7f5915c97908>"
      ]
     },
     "execution_count": 28,
     "metadata": {},
     "output_type": "execute_result"
    },
    {
     "data": {
      "image/png": "[encoded data removed]",
      "text/plain": [
       "<Figure size 432x288 with 1 Axes>"
      ]
     },
     "metadata": {
      "needs_background": "light"
     },
     "output_type": "display_data"
    }
   ],
   "source": [
    "fiscal_df[fiscal_df['TFEDREV'] > 0]['TFEDREV'].hist(bins = 100, log = True)"
   ]
  },
  {
   "cell_type": "code",
   "execution_count": 40,
   "metadata": {
    "scrolled": true
   },
   "outputs": [
    {
     "data": {
      "text/html": [
       "<div>\n",
       "<style scoped>\n",
       "    .dataframe tbody tr th:only-of-type {\n",
       "        vertical-align: middle;\n",
       "    }\n",
       "\n",
       "    .dataframe tbody tr th {\n",
       "        vertical-align: top;\n",
       "    }\n",
       "\n",
       "    .dataframe thead th {\n",
       "        text-align: right;\n",
       "    }\n",
       "</style>\n",
       "<table border=\"1\" class=\"dataframe\">\n",
       "  <thead>\n",
       "    <tr style=\"text-align: right;\">\n",
       "      <th></th>\n",
       "      <th>Revenue</th>\n",
       "    </tr>\n",
       "    <tr>\n",
       "      <th>STNAME</th>\n",
       "      <th></th>\n",
       "    </tr>\n",
       "  </thead>\n",
       "  <tbody>\n",
       "    <tr>\n",
       "      <th>California</th>\n",
       "      <td>7709274795</td>\n",
       "    </tr>\n",
       "    <tr>\n",
       "      <th>Texas</th>\n",
       "      <td>6194316950</td>\n",
       "    </tr>\n",
       "    <tr>\n",
       "      <th>New York</th>\n",
       "      <td>3374793578</td>\n",
       "    </tr>\n",
       "    <tr>\n",
       "      <th>Florida</th>\n",
       "      <td>3147328988</td>\n",
       "    </tr>\n",
       "    <tr>\n",
       "      <th>Illinois</th>\n",
       "      <td>2334944853</td>\n",
       "    </tr>\n",
       "    <tr>\n",
       "      <th>Pennsylvania</th>\n",
       "      <td>2037314939</td>\n",
       "    </tr>\n",
       "    <tr>\n",
       "      <th>Ohio</th>\n",
       "      <td>1837962930</td>\n",
       "    </tr>\n",
       "    <tr>\n",
       "      <th>Georgia</th>\n",
       "      <td>1815241986</td>\n",
       "    </tr>\n",
       "    <tr>\n",
       "      <th>Michigan</th>\n",
       "      <td>1731033937</td>\n",
       "    </tr>\n",
       "    <tr>\n",
       "      <th>North Carolina</th>\n",
       "      <td>1587975932</td>\n",
       "    </tr>\n",
       "    <tr>\n",
       "      <th>Arizona</th>\n",
       "      <td>1302009922</td>\n",
       "    </tr>\n",
       "    <tr>\n",
       "      <th>New Jersey</th>\n",
       "      <td>1249740990</td>\n",
       "    </tr>\n",
       "    <tr>\n",
       "      <th>Louisiana</th>\n",
       "      <td>1115618894</td>\n",
       "    </tr>\n",
       "    <tr>\n",
       "      <th>Washington</th>\n",
       "      <td>1098331976</td>\n",
       "    </tr>\n",
       "    <tr>\n",
       "      <th>Tennessee</th>\n",
       "      <td>1096181996</td>\n",
       "    </tr>\n",
       "    <tr>\n",
       "      <th>Virginia</th>\n",
       "      <td>1058145818</td>\n",
       "    </tr>\n",
       "    <tr>\n",
       "      <th>Indiana</th>\n",
       "      <td>1015475961</td>\n",
       "    </tr>\n",
       "    <tr>\n",
       "      <th>Missouri</th>\n",
       "      <td>959977972</td>\n",
       "    </tr>\n",
       "    <tr>\n",
       "      <th>Kentucky</th>\n",
       "      <td>880295974</td>\n",
       "    </tr>\n",
       "    <tr>\n",
       "      <th>South Carolina</th>\n",
       "      <td>860866990</td>\n",
       "    </tr>\n",
       "    <tr>\n",
       "      <th>Maryland</th>\n",
       "      <td>823598998</td>\n",
       "    </tr>\n",
       "    <tr>\n",
       "      <th>Massachusetts</th>\n",
       "      <td>804594987</td>\n",
       "    </tr>\n",
       "    <tr>\n",
       "      <th>Alabama</th>\n",
       "      <td>803906916</td>\n",
       "    </tr>\n",
       "    <tr>\n",
       "      <th>Wisconsin</th>\n",
       "      <td>782646932</td>\n",
       "    </tr>\n",
       "    <tr>\n",
       "      <th>Colorado</th>\n",
       "      <td>721718867</td>\n",
       "    </tr>\n",
       "    <tr>\n",
       "      <th>Oklahoma</th>\n",
       "      <td>703224894</td>\n",
       "    </tr>\n",
       "    <tr>\n",
       "      <th>Mississippi</th>\n",
       "      <td>690723968</td>\n",
       "    </tr>\n",
       "    <tr>\n",
       "      <th>Minnesota</th>\n",
       "      <td>685054951</td>\n",
       "    </tr>\n",
       "    <tr>\n",
       "      <th>Arkansas</th>\n",
       "      <td>606945973</td>\n",
       "    </tr>\n",
       "    <tr>\n",
       "      <th>Oregon</th>\n",
       "      <td>582559990</td>\n",
       "    </tr>\n",
       "    <tr>\n",
       "      <th>New Mexico</th>\n",
       "      <td>516288985</td>\n",
       "    </tr>\n",
       "    <tr>\n",
       "      <th>Connecticut</th>\n",
       "      <td>484185984</td>\n",
       "    </tr>\n",
       "    <tr>\n",
       "      <th>Iowa</th>\n",
       "      <td>464851996</td>\n",
       "    </tr>\n",
       "    <tr>\n",
       "      <th>Kansas</th>\n",
       "      <td>453921959</td>\n",
       "    </tr>\n",
       "    <tr>\n",
       "      <th>Utah</th>\n",
       "      <td>419641976</td>\n",
       "    </tr>\n",
       "    <tr>\n",
       "      <th>Nevada</th>\n",
       "      <td>405789000</td>\n",
       "    </tr>\n",
       "    <tr>\n",
       "      <th>West Virginia</th>\n",
       "      <td>360283000</td>\n",
       "    </tr>\n",
       "    <tr>\n",
       "      <th>Nebraska</th>\n",
       "      <td>346825973</td>\n",
       "    </tr>\n",
       "    <tr>\n",
       "      <th>Alaska</th>\n",
       "      <td>307320000</td>\n",
       "    </tr>\n",
       "    <tr>\n",
       "      <th>Hawaii</th>\n",
       "      <td>261131000</td>\n",
       "    </tr>\n",
       "    <tr>\n",
       "      <th>Idaho</th>\n",
       "      <td>248545991</td>\n",
       "    </tr>\n",
       "    <tr>\n",
       "      <th>District of Columbia</th>\n",
       "      <td>226201985</td>\n",
       "    </tr>\n",
       "    <tr>\n",
       "      <th>Montana</th>\n",
       "      <td>220339869</td>\n",
       "    </tr>\n",
       "    <tr>\n",
       "      <th>South Dakota</th>\n",
       "      <td>196643958</td>\n",
       "    </tr>\n",
       "    <tr>\n",
       "      <th>Rhode Island</th>\n",
       "      <td>188203996</td>\n",
       "    </tr>\n",
       "    <tr>\n",
       "      <th>Maine</th>\n",
       "      <td>186522987</td>\n",
       "    </tr>\n",
       "    <tr>\n",
       "      <th>New Hampshire</th>\n",
       "      <td>169165780</td>\n",
       "    </tr>\n",
       "    <tr>\n",
       "      <th>North Dakota</th>\n",
       "      <td>155452961</td>\n",
       "    </tr>\n",
       "    <tr>\n",
       "      <th>Delaware</th>\n",
       "      <td>144706995</td>\n",
       "    </tr>\n",
       "    <tr>\n",
       "      <th>Wyoming</th>\n",
       "      <td>123011974</td>\n",
       "    </tr>\n",
       "    <tr>\n",
       "      <th>Vermont</th>\n",
       "      <td>111890912</td>\n",
       "    </tr>\n",
       "  </tbody>\n",
       "</table>\n",
       "</div>"
      ],
      "text/plain": [
       "                         Revenue\n",
       "STNAME                          \n",
       "California            7709274795\n",
       "Texas                 6194316950\n",
       "New York              3374793578\n",
       "Florida               3147328988\n",
       "Illinois              2334944853\n",
       "Pennsylvania          2037314939\n",
       "Ohio                  1837962930\n",
       "Georgia               1815241986\n",
       "Michigan              1731033937\n",
       "North Carolina        1587975932\n",
       "Arizona               1302009922\n",
       "New Jersey            1249740990\n",
       "Louisiana             1115618894\n",
       "Washington            1098331976\n",
       "Tennessee             1096181996\n",
       "Virginia              1058145818\n",
       "Indiana               1015475961\n",
       "Missouri               959977972\n",
       "Kentucky               880295974\n",
       "South Carolina         860866990\n",
       "Maryland               823598998\n",
       "Massachusetts          804594987\n",
       "Alabama                803906916\n",
       "Wisconsin              782646932\n",
       "Colorado               721718867\n",
       "Oklahoma               703224894\n",
       "Mississippi            690723968\n",
       "Minnesota              685054951\n",
       "Arkansas               606945973\n",
       "Oregon                 582559990\n",
       "New Mexico             516288985\n",
       "Connecticut            484185984\n",
       "Iowa                   464851996\n",
       "Kansas                 453921959\n",
       "Utah                   419641976\n",
       "Nevada                 405789000\n",
       "West Virginia          360283000\n",
       "Nebraska               346825973\n",
       "Alaska                 307320000\n",
       "Hawaii                 261131000\n",
       "Idaho                  248545991\n",
       "District of Columbia   226201985\n",
       "Montana                220339869\n",
       "South Dakota           196643958\n",
       "Rhode Island           188203996\n",
       "Maine                  186522987\n",
       "New Hampshire          169165780\n",
       "North Dakota           155452961\n",
       "Delaware               144706995\n",
       "Wyoming                123011974\n",
       "Vermont                111890912"
      ]
     },
     "execution_count": 40,
     "metadata": {},
     "output_type": "execute_result"
    }
   ],
   "source": [
    "fiscal_df[['TFEDREV','STNAME']].groupby('STNAME').sum().rename(columns = {'TFEDREV': 'Revenue'})\\\n",
    "                .sort_values('Revenue', ascending = False)"
   ]
  },
  {
   "cell_type": "code",
   "execution_count": 194,
   "metadata": {},
   "outputs": [
    {
     "data": {
      "text/plain": [
       "Text(0, 0.5, 'Revenue per State')"
      ]
     },
     "execution_count": 194,
     "metadata": {},
     "output_type": "execute_result"
    },
    {
     "data": {
      "text/plain": [
       "<Figure size 432x288 with 0 Axes>"
      ]
     },
     "metadata": {},
     "output_type": "display_data"
    },
    {
     "data": {
      "image/png": "[encoded data removed]",
      "text/plain": [
       "<Figure size 1080x720 with 1 Axes>"
      ]
     },
     "metadata": {
      "needs_background": "light"
     },
     "output_type": "display_data"
    }
   ],
   "source": [
    "plt.figure()\n",
    "fiscal_df[['TFEDREV','STNAME']].groupby('STNAME').sum().rename(columns = {'TFEDREV': 'Revenue'}).rename_axis('State')\\\n",
    "                .sort_values('Revenue', ascending = False).plot.bar(figsize = (15,10))\n",
    "plt.ylabel('Revenue per State')"
   ]
  },
  {
   "cell_type": "code",
   "execution_count": 58,
   "metadata": {},
   "outputs": [],
   "source": []
  },
  {
   "cell_type": "code",
   "execution_count": 66,
   "metadata": {},
   "outputs": [
    {
     "data": {
      "text/plain": [
       "Text(0, 0.5, 'Federal Funding Per Student')"
      ]
     },
     "execution_count": 66,
     "metadata": {},
     "output_type": "execute_result"
    },
    {
     "data": {
      "image/png": "[encoded data removed]",
      "text/plain": [
       "<Figure size 1080x720 with 1 Axes>"
      ]
     },
     "metadata": {
      "needs_background": "light"
     },
     "output_type": "display_data"
    }
   ],
   "source": [
    "fiscal_df_per_captita = fiscal_df[[\"STNAME\", \"TOTALEXP\", \"V33\"]].groupby(['STNAME']).sum()\n",
    "\n",
    "plt.figure()\n",
    "(fiscal_df_per_captita['TOTALEXP']/fiscal_df_per_captita['V33']).rename_axis('State')\\\n",
    "    .sort_values(ascending = False).plot.bar(figsize = (15,10))\n",
    "plt.ylabel('Federal Funding Per Student')"
   ]
  },
  {
   "cell_type": "markdown",
   "metadata": {},
   "source": [
    "### Problem 2"
   ]
  },
  {
   "cell_type": "code",
   "execution_count": 75,
   "metadata": {},
   "outputs": [
    {
     "data": {
      "text/html": [
       "<div>\n",
       "<style scoped>\n",
       "    .dataframe tbody tr th:only-of-type {\n",
       "        vertical-align: middle;\n",
       "    }\n",
       "\n",
       "    .dataframe tbody tr th {\n",
       "        vertical-align: top;\n",
       "    }\n",
       "\n",
       "    .dataframe thead th {\n",
       "        text-align: right;\n",
       "    }\n",
       "</style>\n",
       "<table border=\"1\" class=\"dataframe\">\n",
       "  <thead>\n",
       "    <tr style=\"text-align: right;\">\n",
       "      <th></th>\n",
       "      <th>LEAID</th>\n",
       "      <th>CENSUSID</th>\n",
       "      <th>FIPST</th>\n",
       "      <th>CONUM</th>\n",
       "      <th>CSA</th>\n",
       "      <th>CBSA</th>\n",
       "      <th>NAME</th>\n",
       "      <th>STNAME</th>\n",
       "      <th>STABBR</th>\n",
       "      <th>SCHLEV</th>\n",
       "      <th>...</th>\n",
       "      <th>FL_61V</th>\n",
       "      <th>FL_66V</th>\n",
       "      <th>FL_W01</th>\n",
       "      <th>FL_W31</th>\n",
       "      <th>FL_W61</th>\n",
       "      <th>FL_V95</th>\n",
       "      <th>FL_V02</th>\n",
       "      <th>FL_K14</th>\n",
       "      <th>FL_CE1</th>\n",
       "      <th>FL_CE2</th>\n",
       "    </tr>\n",
       "  </thead>\n",
       "  <tbody>\n",
       "    <tr>\n",
       "      <th>0</th>\n",
       "      <td>100002</td>\n",
       "      <td>N</td>\n",
       "      <td>1</td>\n",
       "      <td>01073</td>\n",
       "      <td>142</td>\n",
       "      <td>13820</td>\n",
       "      <td>Alabama Youth Services</td>\n",
       "      <td>Alabama</td>\n",
       "      <td>AL</td>\n",
       "      <td>N</td>\n",
       "      <td>...</td>\n",
       "      <td>M</td>\n",
       "      <td>M</td>\n",
       "      <td>M</td>\n",
       "      <td>M</td>\n",
       "      <td>M</td>\n",
       "      <td>M</td>\n",
       "      <td>M</td>\n",
       "      <td>M</td>\n",
       "      <td>M</td>\n",
       "      <td>M</td>\n",
       "    </tr>\n",
       "    <tr>\n",
       "      <th>1</th>\n",
       "      <td>100005</td>\n",
       "      <td>01504840100000</td>\n",
       "      <td>1</td>\n",
       "      <td>01095</td>\n",
       "      <td>290</td>\n",
       "      <td>10700</td>\n",
       "      <td>Albertville City</td>\n",
       "      <td>Alabama</td>\n",
       "      <td>AL</td>\n",
       "      <td>03</td>\n",
       "      <td>...</td>\n",
       "      <td>M</td>\n",
       "      <td>M</td>\n",
       "      <td>R</td>\n",
       "      <td>R</td>\n",
       "      <td>R</td>\n",
       "      <td>M</td>\n",
       "      <td>M</td>\n",
       "      <td>M</td>\n",
       "      <td>M</td>\n",
       "      <td>M</td>\n",
       "    </tr>\n",
       "    <tr>\n",
       "      <th>2</th>\n",
       "      <td>100006</td>\n",
       "      <td>01504800100000</td>\n",
       "      <td>1</td>\n",
       "      <td>01095</td>\n",
       "      <td>290</td>\n",
       "      <td>10700</td>\n",
       "      <td>Marshall County</td>\n",
       "      <td>Alabama</td>\n",
       "      <td>AL</td>\n",
       "      <td>03</td>\n",
       "      <td>...</td>\n",
       "      <td>M</td>\n",
       "      <td>M</td>\n",
       "      <td>R</td>\n",
       "      <td>R</td>\n",
       "      <td>R</td>\n",
       "      <td>M</td>\n",
       "      <td>M</td>\n",
       "      <td>M</td>\n",
       "      <td>M</td>\n",
       "      <td>M</td>\n",
       "    </tr>\n",
       "    <tr>\n",
       "      <th>3</th>\n",
       "      <td>100007</td>\n",
       "      <td>01503740100000</td>\n",
       "      <td>1</td>\n",
       "      <td>01073</td>\n",
       "      <td>142</td>\n",
       "      <td>13820</td>\n",
       "      <td>Hoover City</td>\n",
       "      <td>Alabama</td>\n",
       "      <td>AL</td>\n",
       "      <td>03</td>\n",
       "      <td>...</td>\n",
       "      <td>M</td>\n",
       "      <td>M</td>\n",
       "      <td>R</td>\n",
       "      <td>R</td>\n",
       "      <td>R</td>\n",
       "      <td>M</td>\n",
       "      <td>M</td>\n",
       "      <td>M</td>\n",
       "      <td>M</td>\n",
       "      <td>M</td>\n",
       "    </tr>\n",
       "    <tr>\n",
       "      <th>4</th>\n",
       "      <td>100008</td>\n",
       "      <td>01504530100000</td>\n",
       "      <td>1</td>\n",
       "      <td>01089</td>\n",
       "      <td>290</td>\n",
       "      <td>26620</td>\n",
       "      <td>Madison City</td>\n",
       "      <td>Alabama</td>\n",
       "      <td>AL</td>\n",
       "      <td>03</td>\n",
       "      <td>...</td>\n",
       "      <td>M</td>\n",
       "      <td>M</td>\n",
       "      <td>R</td>\n",
       "      <td>R</td>\n",
       "      <td>R</td>\n",
       "      <td>M</td>\n",
       "      <td>M</td>\n",
       "      <td>M</td>\n",
       "      <td>M</td>\n",
       "      <td>M</td>\n",
       "    </tr>\n",
       "    <tr>\n",
       "      <th>...</th>\n",
       "      <td>...</td>\n",
       "      <td>...</td>\n",
       "      <td>...</td>\n",
       "      <td>...</td>\n",
       "      <td>...</td>\n",
       "      <td>...</td>\n",
       "      <td>...</td>\n",
       "      <td>...</td>\n",
       "      <td>...</td>\n",
       "      <td>...</td>\n",
       "      <td>...</td>\n",
       "      <td>...</td>\n",
       "      <td>...</td>\n",
       "      <td>...</td>\n",
       "      <td>...</td>\n",
       "      <td>...</td>\n",
       "      <td>...</td>\n",
       "      <td>...</td>\n",
       "      <td>...</td>\n",
       "      <td>...</td>\n",
       "      <td>...</td>\n",
       "    </tr>\n",
       "    <tr>\n",
       "      <th>18703</th>\n",
       "      <td>5680250</td>\n",
       "      <td>51502040100000</td>\n",
       "      <td>56</td>\n",
       "      <td>56039</td>\n",
       "      <td>N</td>\n",
       "      <td>27220</td>\n",
       "      <td>Region V BOCES</td>\n",
       "      <td>Wyoming</td>\n",
       "      <td>WY</td>\n",
       "      <td>07</td>\n",
       "      <td>...</td>\n",
       "      <td>N</td>\n",
       "      <td>N</td>\n",
       "      <td>N</td>\n",
       "      <td>N</td>\n",
       "      <td>N</td>\n",
       "      <td>N</td>\n",
       "      <td>N</td>\n",
       "      <td>N</td>\n",
       "      <td>N</td>\n",
       "      <td>N</td>\n",
       "    </tr>\n",
       "    <tr>\n",
       "      <th>18704</th>\n",
       "      <td>5680251</td>\n",
       "      <td>N</td>\n",
       "      <td>56</td>\n",
       "      <td>56021</td>\n",
       "      <td>N</td>\n",
       "      <td>16940</td>\n",
       "      <td>Wyoming Department of Family Services</td>\n",
       "      <td>Wyoming</td>\n",
       "      <td>WY</td>\n",
       "      <td>N</td>\n",
       "      <td>...</td>\n",
       "      <td>N</td>\n",
       "      <td>N</td>\n",
       "      <td>N</td>\n",
       "      <td>N</td>\n",
       "      <td>N</td>\n",
       "      <td>N</td>\n",
       "      <td>N</td>\n",
       "      <td>N</td>\n",
       "      <td>N</td>\n",
       "      <td>N</td>\n",
       "    </tr>\n",
       "    <tr>\n",
       "      <th>18705</th>\n",
       "      <td>5680252</td>\n",
       "      <td>N</td>\n",
       "      <td>56</td>\n",
       "      <td>56005</td>\n",
       "      <td>N</td>\n",
       "      <td>23940</td>\n",
       "      <td>Youth Emergency Services Inc. - Administration...</td>\n",
       "      <td>Wyoming</td>\n",
       "      <td>WY</td>\n",
       "      <td>N</td>\n",
       "      <td>...</td>\n",
       "      <td>N</td>\n",
       "      <td>N</td>\n",
       "      <td>N</td>\n",
       "      <td>N</td>\n",
       "      <td>N</td>\n",
       "      <td>N</td>\n",
       "      <td>N</td>\n",
       "      <td>N</td>\n",
       "      <td>N</td>\n",
       "      <td>N</td>\n",
       "    </tr>\n",
       "    <tr>\n",
       "      <th>18706</th>\n",
       "      <td>5680253</td>\n",
       "      <td>N</td>\n",
       "      <td>56</td>\n",
       "      <td>56025</td>\n",
       "      <td>N</td>\n",
       "      <td>16220</td>\n",
       "      <td>Wyoming Behavioral Institute - Administration ...</td>\n",
       "      <td>Wyoming</td>\n",
       "      <td>WY</td>\n",
       "      <td>N</td>\n",
       "      <td>...</td>\n",
       "      <td>N</td>\n",
       "      <td>N</td>\n",
       "      <td>N</td>\n",
       "      <td>N</td>\n",
       "      <td>N</td>\n",
       "      <td>N</td>\n",
       "      <td>N</td>\n",
       "      <td>N</td>\n",
       "      <td>N</td>\n",
       "      <td>N</td>\n",
       "    </tr>\n",
       "    <tr>\n",
       "      <th>18707</th>\n",
       "      <td>5680254</td>\n",
       "      <td>N</td>\n",
       "      <td>56</td>\n",
       "      <td>56013</td>\n",
       "      <td>N</td>\n",
       "      <td>40180</td>\n",
       "      <td>Saint Stephen's Indian School Admin Office</td>\n",
       "      <td>Wyoming</td>\n",
       "      <td>WY</td>\n",
       "      <td>03</td>\n",
       "      <td>...</td>\n",
       "      <td>N</td>\n",
       "      <td>N</td>\n",
       "      <td>N</td>\n",
       "      <td>N</td>\n",
       "      <td>N</td>\n",
       "      <td>N</td>\n",
       "      <td>N</td>\n",
       "      <td>N</td>\n",
       "      <td>N</td>\n",
       "      <td>N</td>\n",
       "    </tr>\n",
       "  </tbody>\n",
       "</table>\n",
       "<p>18708 rows × 260 columns</p>\n",
       "</div>"
      ],
      "text/plain": [
       "         LEAID        CENSUSID  FIPST  CONUM  CSA   CBSA  \\\n",
       "0       100002               N      1  01073  142  13820   \n",
       "1       100005  01504840100000      1  01095  290  10700   \n",
       "2       100006  01504800100000      1  01095  290  10700   \n",
       "3       100007  01503740100000      1  01073  142  13820   \n",
       "4       100008  01504530100000      1  01089  290  26620   \n",
       "...        ...             ...    ...    ...  ...    ...   \n",
       "18703  5680250  51502040100000     56  56039    N  27220   \n",
       "18704  5680251               N     56  56021    N  16940   \n",
       "18705  5680252               N     56  56005    N  23940   \n",
       "18706  5680253               N     56  56025    N  16220   \n",
       "18707  5680254               N     56  56013    N  40180   \n",
       "\n",
       "                                                    NAME   STNAME STABBR  \\\n",
       "0                                 Alabama Youth Services  Alabama     AL   \n",
       "1                                       Albertville City  Alabama     AL   \n",
       "2                                        Marshall County  Alabama     AL   \n",
       "3                                            Hoover City  Alabama     AL   \n",
       "4                                           Madison City  Alabama     AL   \n",
       "...                                                  ...      ...    ...   \n",
       "18703                                     Region V BOCES  Wyoming     WY   \n",
       "18704              Wyoming Department of Family Services  Wyoming     WY   \n",
       "18705  Youth Emergency Services Inc. - Administration...  Wyoming     WY   \n",
       "18706  Wyoming Behavioral Institute - Administration ...  Wyoming     WY   \n",
       "18707         Saint Stephen's Indian School Admin Office  Wyoming     WY   \n",
       "\n",
       "      SCHLEV  ... FL_61V  FL_66V  FL_W01  FL_W31 FL_W61 FL_V95  FL_V02  \\\n",
       "0          N  ...      M       M       M       M      M      M       M   \n",
       "1         03  ...      M       M       R       R      R      M       M   \n",
       "2         03  ...      M       M       R       R      R      M       M   \n",
       "3         03  ...      M       M       R       R      R      M       M   \n",
       "4         03  ...      M       M       R       R      R      M       M   \n",
       "...      ...  ...    ...     ...     ...     ...    ...    ...     ...   \n",
       "18703     07  ...      N       N       N       N      N      N       N   \n",
       "18704      N  ...      N       N       N       N      N      N       N   \n",
       "18705      N  ...      N       N       N       N      N      N       N   \n",
       "18706      N  ...      N       N       N       N      N      N       N   \n",
       "18707     03  ...      N       N       N       N      N      N       N   \n",
       "\n",
       "       FL_K14  FL_CE1  FL_CE2  \n",
       "0           M       M       M  \n",
       "1           M       M       M  \n",
       "2           M       M       M  \n",
       "3           M       M       M  \n",
       "4           M       M       M  \n",
       "...       ...     ...     ...  \n",
       "18703       N       N       N  \n",
       "18704       N       N       N  \n",
       "18705       N       N       N  \n",
       "18706       N       N       N  \n",
       "18707       N       N       N  \n",
       "\n",
       "[18708 rows x 260 columns]"
      ]
     },
     "execution_count": 75,
     "metadata": {},
     "output_type": "execute_result"
    }
   ],
   "source": [
    "fiscal_df"
   ]
  },
  {
   "cell_type": "code",
   "execution_count": 78,
   "metadata": {},
   "outputs": [],
   "source": [
    "exp_rev_df = fiscal_df[['TOTALEXP','STNAME', 'TOTALREV']].rename(columns = {'TOTALEXP': 'Total Expenditure', 'TOTALREV': 'Total Revenue'}).rename_axis('State')"
   ]
  },
  {
   "cell_type": "code",
   "execution_count": 80,
   "metadata": {},
   "outputs": [
    {
     "data": {
      "text/plain": [
       "<matplotlib.axes._subplots.AxesSubplot at 0x7f5910be3128>"
      ]
     },
     "execution_count": 80,
     "metadata": {},
     "output_type": "execute_result"
    },
    {
     "data": {
      "image/png": "[encoded data removed]",
      "text/plain": [
       "<Figure size 432x288 with 1 Axes>"
      ]
     },
     "metadata": {
      "needs_background": "light"
     },
     "output_type": "display_data"
    }
   ],
   "source": [
    "exp_rev_df.plot.scatter('Total Expenditure', 'Total Revenue')"
   ]
  },
  {
   "cell_type": "markdown",
   "metadata": {},
   "source": [
    "### There is a clean linear relationships between revenue and expenditures, as expected."
   ]
  },
  {
   "cell_type": "code",
   "execution_count": 82,
   "metadata": {},
   "outputs": [
    {
     "data": {
      "text/plain": [
       "Text(0, 0.5, 'Debt per student')"
      ]
     },
     "execution_count": 82,
     "metadata": {},
     "output_type": "execute_result"
    },
    {
     "data": {
      "image/png": "[encoded data removed]",
      "text/plain": [
       "<Figure size 1080x720 with 1 Axes>"
      ]
     },
     "metadata": {
      "needs_background": "light"
     },
     "output_type": "display_data"
    }
   ],
   "source": [
    "fiscal_df_per_captita = fiscal_df[[\"STNAME\", \"_41F\", \"_66V\"]].groupby(['STNAME']).sum()\n",
    "\n",
    "plt.figure()\n",
    "(fiscal_df_per_captita['_41F']+fiscal_df_per_captita['_66V']).rename_axis('State')\\\n",
    "    .sort_values(ascending = False).plot.bar(figsize = (15,10))\n",
    "plt.ylabel('Debt per student')"
   ]
  },
  {
   "cell_type": "code",
   "execution_count": 96,
   "metadata": {},
   "outputs": [],
   "source": [
    "fiscal_math_df = pd.merge(fiscal_df, math_df)"
   ]
  },
  {
   "cell_type": "code",
   "execution_count": 100,
   "metadata": {},
   "outputs": [
    {
     "data": {
      "text/plain": [
       "array(['42', '39', '66', '72', '37', '43', '69', '21', '62', '47', '34',\n",
       "       '60', '23', '54', '48', '46', '50', '11', '19', '35', '51', '13',\n",
       "       '26', '32', '22', '27', '41', '49', '44', '31', '38', '67', '53',\n",
       "       '33', '20', '36', '14', '63', '40', '56', '45', '52', '10', '17',\n",
       "       '29', '28', '87', '59', '58', '78', '10-14', '30', '25-29',\n",
       "       '30-34', '60-64', '30-39', '61', '45-49', '68', '35-39', '11-19',\n",
       "       'LT50', 'PS', '65-69', '80-89', '85-89', '55-59', 'LE10', '55',\n",
       "       '2', '15-19', '40-44', '50-54', 'LE20', '16', 'LE5', '20-29',\n",
       "       '21-39', '70-74', '15', 'GE90', '86', '76', '40-49', '24', '75-79',\n",
       "       '74', '25', '50-59', '70-79', '6-9', '85', '7', '40-59', '60-79',\n",
       "       '80-84', '20-24', '71', '65', '8', '64', '82', 'GE50', '80', '70',\n",
       "       '77', '88', '83', '93', '81', '57', '75', '84', '92', '73', 'GE95',\n",
       "       '18', '12', '6', '9', '3', '90', 'LE1', '4', 'GE80', '5', '60-69',\n",
       "       '79', '89', '98', '91', '95', '90-94', '94', 'GE99', '96', '97'],\n",
       "      dtype=object)"
      ]
     },
     "execution_count": 100,
     "metadata": {},
     "output_type": "execute_result"
    }
   ],
   "source": [
    "math_df['ALL_MTH00PCTPROF_1516'].unique()"
   ]
  },
  {
   "cell_type": "code",
   "execution_count": 116,
   "metadata": {},
   "outputs": [
    {
     "data": {
      "text/plain": [
       "array([ nan, 12. , 27. , 32. , 62. , 34.5, 47. , 37. , 15. , 67. , 84.5,\n",
       "       87. , 57. ,  5. , 17. , 42. , 52. , 10. ,  2.5, 24.5, 30. , 72. ,\n",
       "       95. , 44.5, 77. , 54.5, 74.5,  7.5, 49.5, 69.5, 82. , 22. , 75. ,\n",
       "       97.5, 64.5, 92. , 90. ,  0.5])"
      ]
     },
     "execution_count": 116,
     "metadata": {},
     "output_type": "execute_result"
    }
   ],
   "source": [
    "def unblur(x):\n",
    "    \n",
    "    if '-' in x:\n",
    "        return (int(x.split('-')[0]) + int(x.split('-')[1])) / 2\n",
    "    \n",
    "    if 'GE' in x:\n",
    "         return ((int(x.replace('GE', '')) + 100)/2)\n",
    "    \n",
    "    if 'LE' in x:\n",
    "         return ((int(x.replace('LE', '')) + 0)/2)\n",
    "        \n",
    "fiscal_math_df['ALL_MTH00PCTPROF_1516'].apply(unblur).unique()"
   ]
  },
  {
   "cell_type": "code",
   "execution_count": 131,
   "metadata": {},
   "outputs": [
    {
     "data": {
      "text/plain": [
       "<matplotlib.axes._subplots.AxesSubplot at 0x7f5927be9a58>"
      ]
     },
     "execution_count": 131,
     "metadata": {},
     "output_type": "execute_result"
    },
    {
     "data": {
      "image/png": "[encoded data removed]",
      "text/plain": [
       "<Figure size 432x288 with 1 Axes>"
      ]
     },
     "metadata": {
      "needs_background": "light"
     },
     "output_type": "display_data"
    }
   ],
   "source": [
    "fiscal_math_df['Unblurred_Scores'] = fiscal_math_df['ALL_MTH00PCTPROF_1516'].apply(unblur)\n",
    "fiscal_math_df['Unblurred_Scores'].plot.hist(bins = 100)"
   ]
  },
  {
   "cell_type": "markdown",
   "metadata": {},
   "source": [
    "#### The distribution looks like a normal distribution that flattens out at 0. This makes sense since a lower score than 0 is not possible.\n",
    "#### As such, we use a normal distribution to estimate the distribution of the original scores. We use KL Divergence to figure out goodness of fit"
   ]
  },
  {
   "cell_type": "code",
   "execution_count": 133,
   "metadata": {},
   "outputs": [],
   "source": [
    "fiscal_math_df['Unblurred_Scores'] = fiscal_math_df['ALL_MTH00PCTPROF_1516'].apply(unblur)\n",
    "unblurred_mean = fiscal_math_df['Unblurred_Scores'].mean()\n",
    "unblurred_sigma = fiscal_math_df['Unblurred_Scores'].std()\n",
    "\n",
    "fiscal_math_df['Unblurred_Scores'] = fiscal_math_df['Unblurred_Scores']\\\n",
    "    .fillna(pd.Series([abs(np.random.normal(unblurred_mean,unblurred_sigma)) for i in range(len(fiscal_math_df))]))\n"
   ]
  },
  {
   "cell_type": "code",
   "execution_count": 134,
   "metadata": {},
   "outputs": [
    {
     "data": {
      "text/plain": [
       "<matplotlib.axes._subplots.AxesSubplot at 0x7f5927b8e518>"
      ]
     },
     "execution_count": 134,
     "metadata": {},
     "output_type": "execute_result"
    },
    {
     "data": {
      "image/png": "[encoded data removed]",
      "text/plain": [
       "<Figure size 432x288 with 1 Axes>"
      ]
     },
     "metadata": {
      "needs_background": "light"
     },
     "output_type": "display_data"
    }
   ],
   "source": [
    "fiscal_math_df['Unblurred_Scores'].plot.hist(bins = 100)"
   ]
  },
  {
   "cell_type": "code",
   "execution_count": 135,
   "metadata": {},
   "outputs": [],
   "source": [
    "def kl_divergence(p, q):\n",
    "    return np.sum(np.where(p != 0, p * np.log(p / q), 0))"
   ]
  },
  {
   "cell_type": "code",
   "execution_count": 152,
   "metadata": {},
   "outputs": [
    {
     "data": {
      "text/plain": [
       "45565.525218373106"
      ]
     },
     "execution_count": 152,
     "metadata": {},
     "output_type": "execute_result"
    }
   ],
   "source": [
    "kl_divergence(fiscal_math_df['Unblurred_Scores'].sample(4955),\n",
    "              list(fiscal_math_df[fiscal_math_df['ALL_MTH00PCTPROF_1516'].str.isnumeric()]\\\n",
    "                   ['ALL_MTH00PCTPROF_1516'].astype(int)))"
   ]
  },
  {
   "cell_type": "code",
   "execution_count": 158,
   "metadata": {},
   "outputs": [
    {
     "data": {
      "text/plain": [
       "97121.56023652945"
      ]
     },
     "execution_count": 158,
     "metadata": {},
     "output_type": "execute_result"
    }
   ],
   "source": [
    "kl_divergence(np.random.uniform(0,100,4955),\n",
    "              list(fiscal_math_df[fiscal_math_df['ALL_MTH00PCTPROF_1516'].str.isnumeric()]\\\n",
    "                   ['ALL_MTH00PCTPROF_1516'].astype(int)))"
   ]
  },
  {
   "cell_type": "markdown",
   "metadata": {},
   "source": [
    "### KL divergence as we can see is about twice as good as a random distribution"
   ]
  },
  {
   "cell_type": "markdown",
   "metadata": {},
   "source": [
    "## Problem 4"
   ]
  },
  {
   "cell_type": "markdown",
   "metadata": {},
   "source": [
    "#### The amount of money to be cut is"
   ]
  },
  {
   "cell_type": "code",
   "execution_count": 161,
   "metadata": {},
   "outputs": [
    {
     "data": {
      "text/plain": [
       "8340410870.7"
      ]
     },
     "execution_count": 161,
     "metadata": {},
     "output_type": "execute_result"
    }
   ],
   "source": [
    "fiscal_df['TFEDREV'].sum() * .15"
   ]
  },
  {
   "cell_type": "code",
   "execution_count": 182,
   "metadata": {},
   "outputs": [],
   "source": [
    "to_cut = fiscal_df['TFEDREV'].sum() * .15\n",
    "tocut_df = fiscal_df[['LEAID','TOTALEXP','V33']]\n",
    "tocut_df = tocut_df[(tocut_df['TOTALEXP'] > 0) & (tocut_df['V33'] > 0)]\n",
    "tocut_df['percapita_spending'] = tocut_df['TOTALEXP']/tocut_df['V33']"
   ]
  },
  {
   "cell_type": "code",
   "execution_count": 188,
   "metadata": {},
   "outputs": [],
   "source": [
    "for i, v in tocut_df.sort_values('percapita_spending', ascending = False).iterrows():\n",
    "    \n",
    "    if to_cut - v['TOTALEXP'] * .20 > 0:\n",
    "        \n",
    "        tocut_df.loc[i, 'to_cut'] = v['TOTALEXP'] * .20\n",
    "        to_cut -= (v['TOTALEXP'] * .20)\n",
    "    else:\n",
    "        tocut_df.loc[i, 'to_cut'] = 0"
   ]
  },
  {
   "cell_type": "code",
   "execution_count": 191,
   "metadata": {},
   "outputs": [
    {
     "data": {
      "text/plain": [
       "<matplotlib.axes._subplots.AxesSubplot at 0x7f58fb3e4240>"
      ]
     },
     "execution_count": 191,
     "metadata": {},
     "output_type": "execute_result"
    },
    {
     "data": {
      "image/png": "[encoded data removed]",
      "text/plain": [
       "<Figure size 432x288 with 1 Axes>"
      ]
     },
     "metadata": {
      "needs_background": "light"
     },
     "output_type": "display_data"
    }
   ],
   "source": [
    "tocut_df['to_cut'].plot.hist(bins = 100)"
   ]
  },
  {
   "cell_type": "markdown",
   "metadata": {},
   "source": []
  },
  {
   "cell_type": "code",
   "execution_count": 193,
   "metadata": {},
   "outputs": [
    {
     "data": {
      "text/plain": [
       "0.0          15224\n",
       "1205000.0        2\n",
       "711400.0         2\n",
       "424800.0         2\n",
       "636400.0         2\n",
       "             ...  \n",
       "1364800.0        1\n",
       "862600.0         1\n",
       "1233600.0        1\n",
       "3712200.0        1\n",
       "145400.0         1\n",
       "Name: to_cut, Length: 657, dtype: int64"
      ]
     },
     "execution_count": 193,
     "metadata": {},
     "output_type": "execute_result"
    }
   ],
   "source": [
    "tocut_df['to_cut'].value_counts()"
   ]
  },
  {
   "cell_type": "code",
   "execution_count": null,
   "metadata": {},
   "outputs": [],
   "source": []
  }
 ],
 "metadata": {
  "kernelspec": {
   "display_name": "Python 3",
   "language": "python",
   "name": "python3"
  },
  "language_info": {
   "codemirror_mode": {
    "name": "ipython",
    "version": 3
   },
   "file_extension": ".py",
   "mimetype": "text/x-python",
   "name": "python",
   "nbconvert_exporter": "python",
   "pygments_lexer": "ipython3",
   "version": "3.5.3"
  }
 },
 "nbformat": 4,
 "nbformat_minor": 2
}
